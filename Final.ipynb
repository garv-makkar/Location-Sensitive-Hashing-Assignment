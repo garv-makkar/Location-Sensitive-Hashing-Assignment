{
 "cells": [
  {
   "cell_type": "markdown",
   "metadata": {},
   "source": [
    "# Downloading packages"
   ]
  },
  {
   "cell_type": "code",
   "execution_count": 1,
   "metadata": {},
   "outputs": [
    {
     "name": "stderr",
     "output_type": "stream",
     "text": [
      "\n",
      "[notice] A new release of pip is available: 24.0 -> 24.2\n",
      "[notice] To update, run: python.exe -m pip install --upgrade pip\n"
     ]
    }
   ],
   "source": [
    "!pip install pandas numpy tqdm nltk transformers torch datasketch matplotlib contractions --q"
   ]
  },
  {
   "cell_type": "markdown",
   "metadata": {},
   "source": [
    "# Importing Libraries"
   ]
  },
  {
   "cell_type": "code",
   "execution_count": 2,
   "metadata": {},
   "outputs": [],
   "source": [
    "import pandas as pd\n",
    "import numpy as np\n",
    "import json\n",
    "from collections import Counter\n",
    "import scipy\n",
    "import re\n",
    "import unicodedata\n",
    "import contractions \n",
    "from nltk.tokenize import word_tokenize, TreebankWordDetokenizer\n",
    "from nltk.stem import WordNetLemmatizer\n",
    "from nltk.corpus import stopwords\n",
    "from sklearn.feature_extraction.text import TfidfVectorizer\n",
    "from datasketch import MinHash, MinHashLSH\n",
    "import matplotlib.pyplot as plt\n",
    "from tqdm import tqdm  "
   ]
  },
  {
   "cell_type": "markdown",
   "metadata": {},
   "source": [
    "# Loading Data"
   ]
  },
  {
   "cell_type": "code",
   "execution_count": 3,
   "metadata": {},
   "outputs": [
    {
     "name": "stderr",
     "output_type": "stream",
     "text": [
      "Loading Data: 100%|██████████| 3/3 [00:01<00:00,  2.25it/s]\n"
     ]
    }
   ],
   "source": [
    "# Use tqdm for tracking the reading process\n",
    "with tqdm(total=3, desc=\"Loading Data\") as pbar:\n",
    "    with open('Data/ids.txt', 'r') as f:\n",
    "        ids = f.read().splitlines()\n",
    "    pbar.update(1)\n",
    "\n",
    "    with open('Data/texts.txt', 'r', encoding='utf-8') as f:\n",
    "        texts = f.readlines()\n",
    "    pbar.update(1)\n",
    "\n",
    "    with open('Data/items.json', 'r') as file:\n",
    "        ground_truth = json.load(file)\n",
    "    pbar.update(1)"
   ]
  },
  {
   "cell_type": "code",
   "execution_count": 4,
   "metadata": {},
   "outputs": [
    {
     "name": "stdout",
     "output_type": "stream",
     "text": [
      "ids shape: 148928\n",
      "texts shape: 148928\n",
      "ground_truth shape: 148928\n"
     ]
    }
   ],
   "source": [
    "print(f\"ids shape: {len(ids)}\")\n",
    "print(f\"texts shape: {len(texts)}\")\n",
    "print(f\"ground_truth shape: {len(ground_truth)}\")"
   ]
  },
  {
   "cell_type": "markdown",
   "metadata": {},
   "source": [
    "# Preprocess text"
   ]
  },
  {
   "cell_type": "code",
   "execution_count": 5,
   "metadata": {},
   "outputs": [
    {
     "name": "stderr",
     "output_type": "stream",
     "text": [
      "Preprocessing Texts: 100%|██████████| 148928/148928 [10:23<00:00, 238.84it/s]\n"
     ]
    }
   ],
   "source": [
    "# Initialize the lemmatizer and stop words\n",
    "lemmatizer = WordNetLemmatizer()\n",
    "stop_words = set(stopwords.words('english'))\n",
    "\n",
    "def expand_contractions(text):\n",
    "    try:\n",
    "        if not text:\n",
    "            return \"\"\n",
    "        \n",
    "        text = text.replace('\"', '\"').replace('\"', '\"')\n",
    "        text = text.replace(''', \"'\").replace(''', \"'\")\n",
    "        \n",
    "        expanded_text = contractions.fix(text)\n",
    "        \n",
    "        custom_contractions = {\n",
    "            \"ain't\": \"is not\", \"can't\": \"cannot\", \"won't\": \"will not\", \"don't\": \"do not\", \"doesn't\": \"does not\",\n",
    "            \"didn't\": \"did not\", \"isn't\": \"is not\", \"aren't\": \"are not\", \"wasn't\": \"was not\", \"weren't\": \"were not\",\n",
    "            \"he's\": \"he is\", \"she's\": \"she is\", \"it's\": \"it is\", \"they're\": \"they are\", \"I'm\": \"I am\",\n",
    "            \"you're\": \"you are\", \"I've\": \"I have\", \"we've\": \"we have\", \"they've\": \"they have\", \"let's\": \"let us\"\n",
    "        }\n",
    "        \n",
    "        for contraction, expansion in custom_contractions.items():\n",
    "            expanded_text = re.sub(\n",
    "                rf'\\b{contraction}\\b',\n",
    "                expansion,\n",
    "                expanded_text,\n",
    "                flags=re.IGNORECASE\n",
    "            )\n",
    "        \n",
    "        return expanded_text\n",
    "    except Exception as e:\n",
    "        print(f\"Error in expand_contractions: {str(e)}\")\n",
    "        return text\n",
    "\n",
    "def preprocess_text(text, min_freq=2, min_length=3, custom_stop_words=None):\n",
    "    try:\n",
    "        if not text:\n",
    "            return \"\"\n",
    "        \n",
    "        text = str(text)\n",
    "        text = unicodedata.normalize('NFKC', text)\n",
    "        text = text.lower()\n",
    "        text = expand_contractions(text)\n",
    "        text = re.sub(r'(http[s]?://|ftp://|www\\.)\\S+', '', text, flags=re.MULTILINE | re.IGNORECASE)\n",
    "        text = re.sub(r'\\S+@\\S+', '', text)\n",
    "        text = re.sub(r'<[^>]+>', '', text)\n",
    "        text = re.sub(r'[^\\w\\s.,!?]', ' ', text)\n",
    "        text = re.sub(r'\\b\\d+\\b', '', text)\n",
    "        text = ' '.join(text.split())\n",
    "        tokens = word_tokenize(text)\n",
    "        stop_words_set = set(stopwords.words('english'))\n",
    "        if custom_stop_words:\n",
    "            stop_words_set.update(custom_stop_words)\n",
    "        \n",
    "        lemmatizer = WordNetLemmatizer()\n",
    "        processed_tokens = []\n",
    "        for token in tokens:\n",
    "            if (len(token) >= min_length and \n",
    "                token not in stop_words_set and \n",
    "                not token.isnumeric() and  \n",
    "                not all(c in '.,!?' for c in token)): \n",
    "                \n",
    "                lemmatized = lemmatizer.lemmatize(token)\n",
    "                processed_tokens.append(lemmatized)\n",
    "        \n",
    "        if processed_tokens:\n",
    "            frequency = Counter(processed_tokens)\n",
    "            processed_tokens = [token for token in processed_tokens \n",
    "                              if frequency[token] >= min_freq]\n",
    "        \n",
    "        if processed_tokens:\n",
    "            cleaned_text = TreebankWordDetokenizer().detokenize(processed_tokens)\n",
    "        else:\n",
    "            cleaned_text = \"\"\n",
    "        \n",
    "        return cleaned_text.strip()\n",
    "    \n",
    "    except Exception as e:\n",
    "        print(f\"Error in preprocess_text: {str(e)}\")\n",
    "        return \"\"\n",
    "\n",
    "texts = [preprocess_text(text) for text in tqdm(texts, desc=\"Preprocessing Texts\")]"
   ]
  },
  {
   "cell_type": "code",
   "execution_count": 6,
   "metadata": {},
   "outputs": [
    {
     "name": "stdout",
     "output_type": "stream",
     "text": [
      "Texts Shape: 148928\n"
     ]
    }
   ],
   "source": [
    "print(f\"Texts Shape: {len(texts)}\")"
   ]
  },
  {
   "cell_type": "markdown",
   "metadata": {},
   "source": [
    "# Embeddings Matrix"
   ]
  },
  {
   "cell_type": "code",
   "execution_count": 7,
   "metadata": {},
   "outputs": [
    {
     "name": "stderr",
     "output_type": "stream",
     "text": [
      "Vectorizing Texts: 100%|██████████| 148928/148928 [00:06<00:00, 21783.81it/s]\n"
     ]
    }
   ],
   "source": [
    "vectorizer = TfidfVectorizer(stop_words='english', max_features=50000)\n",
    "embedding_matrix = vectorizer.fit_transform(tqdm(texts, desc=\"Vectorizing Texts\"))"
   ]
  },
  {
   "cell_type": "code",
   "execution_count": 8,
   "metadata": {},
   "outputs": [
    {
     "name": "stdout",
     "output_type": "stream",
     "text": [
      "Embedding Matrix Shape: (148928, 50000)\n"
     ]
    }
   ],
   "source": [
    "print(f\"Embedding Matrix Shape: {embedding_matrix.shape}\")"
   ]
  },
  {
   "cell_type": "markdown",
   "metadata": {},
   "source": [
    "# Creating Minhash Signatures"
   ]
  },
  {
   "cell_type": "code",
   "execution_count": 9,
   "metadata": {},
   "outputs": [
    {
     "name": "stderr",
     "output_type": "stream",
     "text": [
      "Creating MinHashes:   0%|          | 0/148928 [00:00<?, ?it/s]"
     ]
    },
    {
     "name": "stderr",
     "output_type": "stream",
     "text": [
      "Creating MinHashes: 100%|██████████| 148928/148928 [03:30<00:00, 706.71it/s]\n"
     ]
    }
   ],
   "source": [
    "lsh = MinHashLSH(threshold=0.35, num_perm=64)\n",
    "\n",
    "def get_minhash(text_vector, num_perm=64):\n",
    "    m = MinHash(num_perm=num_perm)\n",
    "    for idx in text_vector.nonzero()[1]:\n",
    "        m.update(str(idx).encode('utf8'))\n",
    "    return m\n",
    "\n",
    "minhashes = {}\n",
    "for idx, (text_id, vector) in tqdm(enumerate(zip(ids, embedding_matrix)), total=len(ids), desc=\"Creating MinHashes\"):\n",
    "    minhash = get_minhash(vector)\n",
    "    minhashes[text_id] = minhash\n",
    "    lsh.insert(text_id, minhash)"
   ]
  },
  {
   "cell_type": "code",
   "execution_count": 10,
   "metadata": {},
   "outputs": [
    {
     "name": "stdout",
     "output_type": "stream",
     "text": [
      "Minhashes Shape: 148928\n"
     ]
    }
   ],
   "source": [
    "print(f\"Minhashes Shape: {len(minhashes)}\")"
   ]
  },
  {
   "cell_type": "markdown",
   "metadata": {},
   "source": [
    "# Predictions using LSH"
   ]
  },
  {
   "cell_type": "code",
   "execution_count": 14,
   "metadata": {},
   "outputs": [],
   "source": [
    "id_to_index = {text_id: idx for idx, text_id in enumerate(ids)}"
   ]
  },
  {
   "cell_type": "code",
   "execution_count": 16,
   "metadata": {},
   "outputs": [
    {
     "name": "stderr",
     "output_type": "stream",
     "text": [
      "Generating Predicted Hash Map:   0%|          | 102/148928 [00:03<1:32:01, 26.95it/s]C:\\Users\\garvm\\AppData\\Local\\Temp\\ipykernel_3092\\148729106.py:7: RuntimeWarning: invalid value encountered in divide\n",
      "  return np.dot(v1, v2.T) / (np.linalg.norm(v1) * np.linalg.norm(v2, axis=1))\n",
      "Generating Predicted Hash Map: 100%|██████████| 148928/148928 [1:29:41<00:00, 27.68it/s]  \n"
     ]
    }
   ],
   "source": [
    "def cosine_similarity(v1, v2):\n",
    "    if scipy.sparse.issparse(v1):\n",
    "        v1 = v1.toarray().flatten()\n",
    "    if scipy.sparse.issparse(v2):\n",
    "        v2 = v2.toarray()\n",
    "    return np.dot(v1, v2.T) / (np.linalg.norm(v1) * np.linalg.norm(v2, axis=1))\n",
    "\n",
    "predicted_map = {}\n",
    "for text_id in tqdm(ids, desc=\"Generating Predicted Hash Map\"):\n",
    "    minhash = minhashes[text_id]\n",
    "    candidates = lsh.query(minhash)\n",
    "    if candidates:  \n",
    "        text_idx = id_to_index[text_id]\n",
    "        candidate_indices = [id_to_index[c] for c in candidates]\n",
    "        text_embedding = embedding_matrix[text_idx]\n",
    "        candidate_embeddings = embedding_matrix[candidate_indices]\n",
    "        similarities = cosine_similarity(text_embedding, candidate_embeddings).flatten()\n",
    "        sorted_indices = similarities.argsort()[::-1]\n",
    "        top_5 = [candidates[i] for i in sorted_indices[:5]]\n",
    "        predicted_map[text_id] = top_5\n",
    "\n",
    "with open('Outputs/predicted_map.json', 'w') as file:\n",
    "    json.dump(predicted_map, file)"
   ]
  },
  {
   "cell_type": "code",
   "execution_count": 17,
   "metadata": {},
   "outputs": [
    {
     "name": "stdout",
     "output_type": "stream",
     "text": [
      "Predicted Map Shape: 148928\n"
     ]
    }
   ],
   "source": [
    "print(f\"Predicted Map Shape: {len(predicted_map)}\")"
   ]
  },
  {
   "cell_type": "markdown",
   "metadata": {},
   "source": [
    "# Evaluation"
   ]
  },
  {
   "cell_type": "code",
   "execution_count": 18,
   "metadata": {},
   "outputs": [
    {
     "name": "stderr",
     "output_type": "stream",
     "text": [
      "Evaluating Intersection Scores: 100%|██████████| 148928/148928 [00:00<00:00, 196264.52it/s]\n"
     ]
    },
    {
     "name": "stdout",
     "output_type": "stream",
     "text": [
      "Average Intersection Score: 0.05393210141813494\n",
      "       Intersection Score\n",
      "count       148928.000000\n",
      "mean             0.053932\n",
      "std              0.241709\n",
      "min              0.000000\n",
      "25%              0.000000\n",
      "50%              0.000000\n",
      "75%              0.000000\n",
      "max              4.000000\n"
     ]
    },
    {
     "data": {
      "image/png": "[encoded data removed]",
      "text/plain": [
       "<Figure size 800x500 with 1 Axes>"
      ]
     },
     "metadata": {},
     "output_type": "display_data"
    },
    {
     "data": {
      "image/png": "[encoded data removed]",
      "text/plain": [
       "<Figure size 600x400 with 1 Axes>"
      ]
     },
     "metadata": {},
     "output_type": "display_data"
    }
   ],
   "source": [
    "def intersection_score(predicted, ground_truth):\n",
    "    return len(set(predicted) & set(ground_truth))\n",
    "\n",
    "scores = []\n",
    "for text_id in tqdm(ids, desc=\"Evaluating Intersection Scores\"):\n",
    "    ground_truth_items = ground_truth.get(text_id, [])\n",
    "    predicted_items = predicted_map.get(text_id, [])\n",
    "    score = intersection_score(predicted_items, ground_truth_items)\n",
    "    scores.append(score)\n",
    "\n",
    "average_score = np.mean(scores)\n",
    "print(f'Average Intersection Score: {average_score}')\n",
    "\n",
    "scores_df = pd.DataFrame(scores, columns=['Intersection Score'])\n",
    "scores_df.to_csv('Outputs/scores.csv', index=False)\n",
    "\n",
    "print(scores_df.describe())\n",
    "\n",
    "with open('Outputs/scores_description.txt', 'w') as file:\n",
    "    file.write(str(scores_df.describe()))\n",
    "\n",
    "plt.figure(figsize=(8, 5))\n",
    "plt.hist(scores, bins=6, edgecolor='black', alpha=0.7)\n",
    "plt.title('Histogram of Intersection Scores')\n",
    "plt.xlabel('Score')\n",
    "plt.ylabel('Frequency')\n",
    "plt.savefig('Outputs/histogram.png')\n",
    "plt.show()\n",
    "\n",
    "plt.figure(figsize=(6, 4))\n",
    "plt.boxplot(scores, vert=False)\n",
    "plt.title('Box Plot of Intersection Scores')\n",
    "plt.xlabel('Score')\n",
    "plt.savefig('Outputs/boxplot.png')\n",
    "plt.show()"
   ]
  }
 ],
 "metadata": {
  "kernelspec": {
   "display_name": "bdavenv",
   "language": "python",
   "name": "python3"
  },
  "language_info": {
   "codemirror_mode": {
    "name": "ipython",
    "version": 3
   },
   "file_extension": ".py",
   "mimetype": "text/x-python",
   "name": "python",
   "nbconvert_exporter": "python",
   "pygments_lexer": "ipython3",
   "version": "3.12.3"
  }
 },
 "nbformat": 4,
 "nbformat_minor": 2
}
